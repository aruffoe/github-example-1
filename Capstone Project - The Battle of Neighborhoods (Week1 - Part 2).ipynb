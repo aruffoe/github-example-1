{
 "cells": [
  {
   "cell_type": "markdown",
   "metadata": {},
   "source": [
    "#### Capstone Project - The Battle of Neighborhoods (Week 1)\n",
    "\n",
    "In order to analysis the different neighborhoods in Toronto, we will look at the 140 neighborhoods in the 9 boroughs. This data can be scraped from the following Wikipedia page, https://en.wikipedia.org/wiki/List_of_postal_codes_of_Canada:_M. And once a dataframe of each neighborhood with it's borough is built we can utilize the Foursquare location data of the Ethiopian restaurants in Toronto to get the latitude and the longitude coordinates.\n",
    "\n",
    "Once we have explored the neighborhoods in which Ethiopian restaurants are located in Toronto we can make recommendations to Meadi's management about the most ideal location for their new restaurants."
   ]
  },
  {
   "cell_type": "code",
   "execution_count": null,
   "metadata": {},
   "outputs": [],
   "source": []
  }
 ],
 "metadata": {
  "kernelspec": {
   "display_name": "Python",
   "language": "python",
   "name": "conda-env-python-py"
  },
  "language_info": {
   "codemirror_mode": {
    "name": "ipython",
    "version": 3
   },
   "file_extension": ".py",
   "mimetype": "text/x-python",
   "name": "python",
   "nbconvert_exporter": "python",
   "pygments_lexer": "ipython3",
   "version": "3.6.7"
  }
 },
 "nbformat": 4,
 "nbformat_minor": 4
}
