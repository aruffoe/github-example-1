{
 "cells": [
  {
   "cell_type": "markdown",
   "metadata": {},
   "source": [
    "#### Capstone Project - The Battle of Neighborhoods (Week 1)\n",
    "\n",
    "\n",
    "Toronto is one of the most multicultural cities in the world, with almost half of its population consisting of people who immigrated to Canada. Being the largest city in Canada, it boasts 200 ethnic groups with over 140 languages spoken. People from the China, Italy, Ireland and UK, to name a few, represent some of the larger cultural groups, while smaller communities include people from Iran, the Netherlands, Nepal and Romania. Toronto also features dozens of international neighborhoods waiting to be explored, including Chinatown, Greektown, Roncesvalles Village (Little Poland), Little Italy, and Little India.\n",
    "\n",
    "As a result of Toronto's multiculturalism, the city offers plethora of ethnic food places. This leads to a huge number of international investors and franchises opening restaurants in the city.\n",
    "\n",
    "Meadi is an upscale Ethiopian restaurant that serves authentic Ethiopian dishes and drinks menu. It is looking to expand and open its first international location in Toronto. Given that it is a highly competitive market the company has to look at various factors, such as the city's population and demographics, where the other Ethiopian restaurants are located, how their menu to Meadi's, local market to buy their fresh produce, and so.\n",
    "\n",
    "The location of a restaurant can be a huge factor in its success. Understanding this, Meadi's management has hired data scientists in Toronto to help them determine the best neighborhood to open their first location in. "
   ]
  },
  {
   "cell_type": "code",
   "execution_count": null,
   "metadata": {},
   "outputs": [],
   "source": []
  }
 ],
 "metadata": {
  "kernelspec": {
   "display_name": "Python",
   "language": "python",
   "name": "conda-env-python-py"
  },
  "language_info": {
   "codemirror_mode": {
    "name": "ipython",
    "version": 3
   },
   "file_extension": ".py",
   "mimetype": "text/x-python",
   "name": "python",
   "nbconvert_exporter": "python",
   "pygments_lexer": "ipython3",
   "version": "3.6.7"
  }
 },
 "nbformat": 4,
 "nbformat_minor": 4
}
